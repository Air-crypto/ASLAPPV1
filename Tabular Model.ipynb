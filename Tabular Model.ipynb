{
 "cells": [
  {
   "cell_type": "code",
   "execution_count": 1,
   "id": "6b364aff",
   "metadata": {},
   "outputs": [],
   "source": [
    "import numpy as np\n",
    "import pandas as pd\n",
    "import matplotlib.pyplot as plt\n",
    "import torch\n",
    "import torch.nn as nn\n",
    "import torch.optim as optim\n",
    "from torch.utils.data import Dataset, DataLoader, random_split"
   ]
  },
  {
   "cell_type": "code",
   "execution_count": null,
   "id": "0e1d5f7d",
   "metadata": {},
   "outputs": [],
   "source": [
    "class KeypointsLocationDataset(Dataset):\n",
    "    \"\"\"Students Performance dataset.\"\"\"\n",
    "\n",
    "    def __init__(self, csv_file):\n",
    "        \"\"\"Initializes instance of class StudentsPerformanceDataset.\n",
    "        Args:\n",
    "            csv_file (str): Path to the csv file with the students data.\n",
    "        \"\"\"\n",
    "        df = pd.read_csv(csv_file)\n",
    "\n",
    "        # Grouping variable names\n",
    "        self.categorical = [\"x\", \"y\"]\n",
    "        self.target = \"math score\"\n",
    "\n",
    "        # One-hot encoding of categorical variables\n",
    "        self.students_frame = pd.get_dummies(df, prefix=self.categorical)\n",
    "\n",
    "        # Save target and predictors\n",
    "        self.X = self.students_frame.drop(self.target, axis=1)\n",
    "        self.y = self.students_frame[self.target]\n",
    "\n",
    "    def __len__(self):\n",
    "        return len(self.students_frame)\n",
    "\n",
    "    def __getitem__(self, idx):\n",
    "        # Convert idx from tensor to list due to pandas bug (that arises when using pytorch's random_split)\n",
    "        if isinstance(idx, torch.Tensor):\n",
    "            idx = idx.tolist()\n",
    "\n",
    "        return [self.X.iloc[idx].values, self.y[idx]]"
   ]
  }
 ],
 "metadata": {
  "kernelspec": {
   "display_name": "Python 3",
   "language": "python",
   "name": "python3"
  },
  "language_info": {
   "codemirror_mode": {
    "name": "ipython",
    "version": 3
   },
   "file_extension": ".py",
   "mimetype": "text/x-python",
   "name": "python",
   "nbconvert_exporter": "python",
   "pygments_lexer": "ipython3",
   "version": "3.6.7"
  }
 },
 "nbformat": 4,
 "nbformat_minor": 5
}
